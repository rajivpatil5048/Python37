{
 "cells": [
  {
   "cell_type": "code",
   "execution_count": 1,
   "id": "621dbd9b",
   "metadata": {},
   "outputs": [],
   "source": [
    "# How to convert two lists in one list"
   ]
  },
  {
   "cell_type": "code",
   "execution_count": 2,
   "id": "7f0492fc",
   "metadata": {},
   "outputs": [],
   "source": [
    "r = [[1,2],[3,4]]"
   ]
  },
  {
   "cell_type": "code",
   "execution_count": 3,
   "id": "3a961b39",
   "metadata": {},
   "outputs": [
    {
     "data": {
      "text/plain": [
       "[[1, 2], [3, 4]]"
      ]
     },
     "execution_count": 3,
     "metadata": {},
     "output_type": "execute_result"
    }
   ],
   "source": [
    "r"
   ]
  },
  {
   "cell_type": "code",
   "execution_count": 4,
   "id": "0f60c7b5",
   "metadata": {},
   "outputs": [
    {
     "data": {
      "text/plain": [
       "[1, 2, 3, 4]"
      ]
     },
     "execution_count": 4,
     "metadata": {},
     "output_type": "execute_result"
    }
   ],
   "source": [
    "[j for i in r for j in i]"
   ]
  },
  {
   "cell_type": "code",
   "execution_count": 5,
   "id": "448a127d",
   "metadata": {},
   "outputs": [],
   "source": [
    "# how to combine 2 list l1=[1,2,3] l2=['a','b','c']?"
   ]
  },
  {
   "cell_type": "code",
   "execution_count": 6,
   "id": "ea5f87ce",
   "metadata": {},
   "outputs": [],
   "source": [
    "l1 = [1,2,3]\n",
    "l2 = ['a','b','c']"
   ]
  },
  {
   "cell_type": "code",
   "execution_count": 7,
   "id": "2d548587",
   "metadata": {},
   "outputs": [],
   "source": [
    "l1 = l1+l2"
   ]
  },
  {
   "cell_type": "code",
   "execution_count": 8,
   "id": "2e9db9ec",
   "metadata": {},
   "outputs": [
    {
     "data": {
      "text/plain": [
       "[1, 2, 3, 'a', 'b', 'c']"
      ]
     },
     "execution_count": 8,
     "metadata": {},
     "output_type": "execute_result"
    }
   ],
   "source": [
    "l1"
   ]
  },
  {
   "cell_type": "code",
   "execution_count": 9,
   "id": "518db028",
   "metadata": {},
   "outputs": [],
   "source": [
    "# hoe to convert multiple str in one str"
   ]
  },
  {
   "cell_type": "code",
   "execution_count": 10,
   "id": "255c2598",
   "metadata": {},
   "outputs": [],
   "source": [
    "f = ['hi','How are you','I am fine','What about you','Relax mode guys']"
   ]
  },
  {
   "cell_type": "code",
   "execution_count": 11,
   "id": "b1c394a5",
   "metadata": {},
   "outputs": [],
   "source": [
    "l = ' '.join([str(ele) for ele in f])"
   ]
  },
  {
   "cell_type": "code",
   "execution_count": 12,
   "id": "37dccc91",
   "metadata": {
    "scrolled": true
   },
   "outputs": [
    {
     "data": {
      "text/plain": [
       "'hi How are you I am fine What about you Relax mode guys'"
      ]
     },
     "execution_count": 12,
     "metadata": {},
     "output_type": "execute_result"
    }
   ],
   "source": [
    "l"
   ]
  },
  {
   "cell_type": "code",
   "execution_count": 13,
   "id": "e673e91f",
   "metadata": {},
   "outputs": [],
   "source": [
    "# u have list=['a','b','c'] join it like ['a,b,c']. Do it"
   ]
  },
  {
   "cell_type": "code",
   "execution_count": 14,
   "id": "032f795c",
   "metadata": {},
   "outputs": [],
   "source": [
    "l=['a','b','c']"
   ]
  },
  {
   "cell_type": "code",
   "execution_count": 15,
   "id": "eb677670",
   "metadata": {},
   "outputs": [],
   "source": [
    "list=['a','b','c']"
   ]
  },
  {
   "cell_type": "code",
   "execution_count": 16,
   "id": "13cd070b",
   "metadata": {},
   "outputs": [],
   "source": [
    "a = ','.join([str(ele) for ele in list])"
   ]
  },
  {
   "cell_type": "code",
   "execution_count": 17,
   "id": "4d5dee8d",
   "metadata": {},
   "outputs": [
    {
     "data": {
      "text/plain": [
       "'a,b,c'"
      ]
     },
     "execution_count": 17,
     "metadata": {},
     "output_type": "execute_result"
    }
   ],
   "source": [
    "a"
   ]
  },
  {
   "cell_type": "code",
   "execution_count": 18,
   "id": "b1ca5bdf",
   "metadata": {},
   "outputs": [
    {
     "name": "stdout",
     "output_type": "stream",
     "text": [
      "geeks\n"
     ]
    }
   ],
   "source": [
    "list1 = ['g', 'e', 'e', 'k', 's']\n",
    "print(\"\".join(list1))"
   ]
  },
  {
   "cell_type": "code",
   "execution_count": 19,
   "id": "bf14ed9f",
   "metadata": {},
   "outputs": [],
   "source": [
    "# suppose their is a string=('a','e','i','o','u') how to make it different like ('a','e','i'), ('o','u')? "
   ]
  },
  {
   "cell_type": "code",
   "execution_count": 20,
   "id": "0f8ea1ac",
   "metadata": {},
   "outputs": [],
   "source": [
    "s = ('a','e','i','o','u') "
   ]
  },
  {
   "cell_type": "code",
   "execution_count": 21,
   "id": "85496123",
   "metadata": {},
   "outputs": [
    {
     "name": "stdout",
     "output_type": "stream",
     "text": [
      "['a', 'e', 'i']\n",
      "['o', 'u']\n"
     ]
    }
   ],
   "source": [
    "l1 = []\n",
    "l2 = []\n",
    "for i in s:\n",
    "    if i in ['a','e','i']:\n",
    "        l1.append(i)\n",
    "    else:\n",
    "        l2.append(i)\n",
    "print(l1)\n",
    "print(l2)"
   ]
  },
  {
   "cell_type": "code",
   "execution_count": 22,
   "id": "49d26577",
   "metadata": {},
   "outputs": [],
   "source": [
    "new_l3= set(l1)"
   ]
  },
  {
   "cell_type": "code",
   "execution_count": 23,
   "id": "1c6e06e8",
   "metadata": {},
   "outputs": [
    {
     "data": {
      "text/plain": [
       "{'a', 'e', 'i'}"
      ]
     },
     "execution_count": 23,
     "metadata": {},
     "output_type": "execute_result"
    }
   ],
   "source": [
    "new_l3"
   ]
  },
  {
   "cell_type": "code",
   "execution_count": 24,
   "id": "817ee6a7",
   "metadata": {},
   "outputs": [],
   "source": [
    "new_l2 = set(l2)"
   ]
  },
  {
   "cell_type": "code",
   "execution_count": 25,
   "id": "e012bd11",
   "metadata": {},
   "outputs": [
    {
     "data": {
      "text/plain": [
       "{'o', 'u'}"
      ]
     },
     "execution_count": 25,
     "metadata": {},
     "output_type": "execute_result"
    }
   ],
   "source": [
    "new_l2"
   ]
  },
  {
   "cell_type": "code",
   "execution_count": 26,
   "id": "6cc202f1",
   "metadata": {},
   "outputs": [],
   "source": [
    "# Adv python:=\n",
    "#=============\n",
    "# Money Paching:=\n",
    "#==============   Monkey patching in python refers to modifying or updating a piece of code or class or \n",
    "#                 any module at the runtime. In simple words, we can change the behavior or working of a class/ module \n",
    "#                 at the runtime without changing the whole python code. But sometimes monkey patching is considered bad \n",
    "#                 practice because the definition of object does not accurately describe how the object is behaving in the code."
   ]
  },
  {
   "cell_type": "code",
   "execution_count": 27,
   "id": "028a186c",
   "metadata": {},
   "outputs": [],
   "source": [
    "# define a for loop to add elements in list. "
   ]
  },
  {
   "cell_type": "code",
   "execution_count": 28,
   "id": "172608dc",
   "metadata": {},
   "outputs": [],
   "source": [
    "s= 'raju','akki','rahul','jadhav','koli'"
   ]
  },
  {
   "cell_type": "code",
   "execution_count": 29,
   "id": "867bcc47",
   "metadata": {},
   "outputs": [
    {
     "name": "stdout",
     "output_type": "stream",
     "text": [
      "['raju', 'akki', 'rahul', 'jadhav', 'koli']\n"
     ]
    }
   ],
   "source": [
    "ls = []\n",
    "for i in s:\n",
    "    if i in ['raju','akki','rahul','jadhav','koli']:\n",
    "        ls.append(i)\n",
    "print(ls)"
   ]
  },
  {
   "cell_type": "code",
   "execution_count": 30,
   "id": "5894885a",
   "metadata": {},
   "outputs": [],
   "source": [
    "# str='abcd' print only 'abc'? how to do it? \n",
    "# use typecasting or\n",
    "# use replace"
   ]
  },
  {
   "cell_type": "code",
   "execution_count": 37,
   "id": "c29225ea",
   "metadata": {},
   "outputs": [],
   "source": [
    "str = 'abcd'"
   ]
  },
  {
   "cell_type": "code",
   "execution_count": 38,
   "id": "9a8467c8",
   "metadata": {},
   "outputs": [
    {
     "data": {
      "text/plain": [
       "'abc'"
      ]
     },
     "execution_count": 38,
     "metadata": {},
     "output_type": "execute_result"
    }
   ],
   "source": [
    "str.replace('abcd','abc')"
   ]
  },
  {
   "cell_type": "code",
   "execution_count": 39,
   "id": "17a185ac",
   "metadata": {},
   "outputs": [],
   "source": [
    "# write a list comprehension for even numbers"
   ]
  },
  {
   "cell_type": "code",
   "execution_count": 40,
   "id": "0726780d",
   "metadata": {},
   "outputs": [],
   "source": [
    "ls = [i for i in range(10) if (i%2==0)]"
   ]
  },
  {
   "cell_type": "code",
   "execution_count": 41,
   "id": "f63cfc07",
   "metadata": {},
   "outputs": [
    {
     "data": {
      "text/plain": [
       "[0, 2, 4, 6, 8]"
      ]
     },
     "execution_count": 41,
     "metadata": {},
     "output_type": "execute_result"
    }
   ],
   "source": [
    "ls"
   ]
  },
  {
   "cell_type": "code",
   "execution_count": 42,
   "id": "638d0ea7",
   "metadata": {},
   "outputs": [],
   "source": [
    "# write a dictionary comprehension for even numbers upto 100. "
   ]
  },
  {
   "cell_type": "code",
   "execution_count": 43,
   "id": "00eb2c35",
   "metadata": {},
   "outputs": [],
   "source": [
    "evens=[number for number in range(1,101) if number%2==0]\n",
    "even_dict={k:evens[k-1] for k in range(1,len(evens)+1)}"
   ]
  },
  {
   "cell_type": "code",
   "execution_count": 44,
   "id": "95d23aaa",
   "metadata": {},
   "outputs": [
    {
     "data": {
      "text/plain": [
       "{1: 2,\n",
       " 2: 4,\n",
       " 3: 6,\n",
       " 4: 8,\n",
       " 5: 10,\n",
       " 6: 12,\n",
       " 7: 14,\n",
       " 8: 16,\n",
       " 9: 18,\n",
       " 10: 20,\n",
       " 11: 22,\n",
       " 12: 24,\n",
       " 13: 26,\n",
       " 14: 28,\n",
       " 15: 30,\n",
       " 16: 32,\n",
       " 17: 34,\n",
       " 18: 36,\n",
       " 19: 38,\n",
       " 20: 40,\n",
       " 21: 42,\n",
       " 22: 44,\n",
       " 23: 46,\n",
       " 24: 48,\n",
       " 25: 50,\n",
       " 26: 52,\n",
       " 27: 54,\n",
       " 28: 56,\n",
       " 29: 58,\n",
       " 30: 60,\n",
       " 31: 62,\n",
       " 32: 64,\n",
       " 33: 66,\n",
       " 34: 68,\n",
       " 35: 70,\n",
       " 36: 72,\n",
       " 37: 74,\n",
       " 38: 76,\n",
       " 39: 78,\n",
       " 40: 80,\n",
       " 41: 82,\n",
       " 42: 84,\n",
       " 43: 86,\n",
       " 44: 88,\n",
       " 45: 90,\n",
       " 46: 92,\n",
       " 47: 94,\n",
       " 48: 96,\n",
       " 49: 98,\n",
       " 50: 100}"
      ]
     },
     "execution_count": 44,
     "metadata": {},
     "output_type": "execute_result"
    }
   ],
   "source": [
    "even_dict"
   ]
  },
  {
   "cell_type": "code",
   "execution_count": 47,
   "id": "e1845c62",
   "metadata": {},
   "outputs": [],
   "source": [
    "a = (1,2,5,'raju')"
   ]
  },
  {
   "cell_type": "code",
   "execution_count": 48,
   "id": "0a6fc126",
   "metadata": {},
   "outputs": [
    {
     "ename": "AttributeError",
     "evalue": "'tuple' object has no attribute 'add'",
     "output_type": "error",
     "traceback": [
      "\u001b[1;31m---------------------------------------------------------------------------\u001b[0m",
      "\u001b[1;31mAttributeError\u001b[0m                            Traceback (most recent call last)",
      "\u001b[1;32m~\\AppData\\Local\\Temp\\ipykernel_1972\\1879588320.py\u001b[0m in \u001b[0;36m<module>\u001b[1;34m\u001b[0m\n\u001b[1;32m----> 1\u001b[1;33m \u001b[0ma\u001b[0m\u001b[1;33m.\u001b[0m\u001b[0madd\u001b[0m\u001b[1;33m(\u001b[0m\u001b[1;36m20\u001b[0m\u001b[1;33m)\u001b[0m\u001b[1;33m\u001b[0m\u001b[1;33m\u001b[0m\u001b[0m\n\u001b[0m",
      "\u001b[1;31mAttributeError\u001b[0m: 'tuple' object has no attribute 'add'"
     ]
    }
   ],
   "source": [
    "a.add(20)"
   ]
  },
  {
   "cell_type": "code",
   "execution_count": 49,
   "id": "eda0d84c",
   "metadata": {},
   "outputs": [],
   "source": [
    "# ow to merge 2 dictionaries? "
   ]
  },
  {
   "cell_type": "code",
   "execution_count": 50,
   "id": "ba77ae8b",
   "metadata": {},
   "outputs": [
    {
     "name": "stdout",
     "output_type": "stream",
     "text": [
      "{'id': 5048, 'name': 'rajiv', 'city': 'Pune', 'pan': 'DOKLLP'}\n"
     ]
    }
   ],
   "source": [
    "def Merge(a,b):\n",
    "    fun = {**a,**b}\n",
    "    return fun\n",
    "\n",
    "a = {'id':5048, 'name':'rajiv'}\n",
    "b = {'city':'Pune','pan':'DOKLLP'}\n",
    "c = Merge(a,b)\n",
    "\n",
    "print(c)"
   ]
  },
  {
   "cell_type": "code",
   "execution_count": 51,
   "id": "2058b2bc",
   "metadata": {},
   "outputs": [],
   "source": [
    "#in a function assigned a value x=10 then how it get stored in python? ***"
   ]
  },
  {
   "cell_type": "code",
   "execution_count": 52,
   "id": "dc317f81",
   "metadata": {},
   "outputs": [],
   "source": [
    "def add(y):\n",
    "    global x\n",
    "    x=10\n",
    "    print(x+y)    "
   ]
  },
  {
   "cell_type": "code",
   "execution_count": 53,
   "id": "b14118e6",
   "metadata": {},
   "outputs": [
    {
     "name": "stdout",
     "output_type": "stream",
     "text": [
      "20\n"
     ]
    }
   ],
   "source": [
    "add(10)"
   ]
  },
  {
   "cell_type": "code",
   "execution_count": 54,
   "id": "6010cc85",
   "metadata": {},
   "outputs": [
    {
     "data": {
      "text/plain": [
       "10"
      ]
     },
     "execution_count": 54,
     "metadata": {},
     "output_type": "execute_result"
    }
   ],
   "source": [
    "x"
   ]
  },
  {
   "cell_type": "code",
   "execution_count": 55,
   "id": "fb0d10d9",
   "metadata": {},
   "outputs": [],
   "source": [
    "a = x"
   ]
  },
  {
   "cell_type": "code",
   "execution_count": 56,
   "id": "03e7c4a8",
   "metadata": {},
   "outputs": [
    {
     "data": {
      "text/plain": [
       "10"
      ]
     },
     "execution_count": 56,
     "metadata": {},
     "output_type": "execute_result"
    }
   ],
   "source": [
    "a"
   ]
  },
  {
   "cell_type": "code",
   "execution_count": 57,
   "id": "75457de4",
   "metadata": {},
   "outputs": [],
   "source": [
    "# SQL question\n",
    "# 2 tables --- 1 is emp, 2 dept --- \n",
    "# emp --- id name dept_id salary \n",
    "# dept --- id name \n",
    "# find highest salary of all department "
   ]
  },
  {
   "cell_type": "code",
   "execution_count": 58,
   "id": "c8994a06",
   "metadata": {},
   "outputs": [],
   "source": [
    "import pandas as pd"
   ]
  },
  {
   "cell_type": "code",
   "execution_count": 59,
   "id": "3957af3b",
   "metadata": {},
   "outputs": [],
   "source": [
    "emp = {\n",
    "    'id':[10,20,30,40,50,60,70,80],\n",
    "    'name':['raju','akki','suraj','rahul','monu','pooja','rohini','kartik'],\n",
    "    'dept_id':[5048,3163,4512,5263,4587,1659,4253,1665],\n",
    "    'salary':[95000,80000,75000,90000,45000,68000,78000,95000]\n",
    "}"
   ]
  },
  {
   "cell_type": "code",
   "execution_count": 60,
   "id": "4df87699",
   "metadata": {},
   "outputs": [],
   "source": [
    "dept = {\n",
    "    'id':[10,20,30,40,50,60,70,80],\n",
    "    'dept_name':['HR','ENGG','CIVIL','MECH','ENGG','CIVIL','HR','MECH']\n",
    "}"
   ]
  },
  {
   "cell_type": "code",
   "execution_count": 61,
   "id": "bc5e698b",
   "metadata": {},
   "outputs": [],
   "source": [
    "emp_df = pd.DataFrame(emp)"
   ]
  },
  {
   "cell_type": "code",
   "execution_count": 62,
   "id": "0ebf06e1",
   "metadata": {},
   "outputs": [],
   "source": [
    "dept_df= pd.DataFrame(dept)"
   ]
  },
  {
   "cell_type": "code",
   "execution_count": 63,
   "id": "6acdd92e",
   "metadata": {},
   "outputs": [
    {
     "data": {
      "text/html": [
       "<div>\n",
       "<style scoped>\n",
       "    .dataframe tbody tr th:only-of-type {\n",
       "        vertical-align: middle;\n",
       "    }\n",
       "\n",
       "    .dataframe tbody tr th {\n",
       "        vertical-align: top;\n",
       "    }\n",
       "\n",
       "    .dataframe thead th {\n",
       "        text-align: right;\n",
       "    }\n",
       "</style>\n",
       "<table border=\"1\" class=\"dataframe\">\n",
       "  <thead>\n",
       "    <tr style=\"text-align: right;\">\n",
       "      <th></th>\n",
       "      <th>id</th>\n",
       "      <th>name</th>\n",
       "      <th>dept_id</th>\n",
       "      <th>salary</th>\n",
       "    </tr>\n",
       "  </thead>\n",
       "  <tbody>\n",
       "    <tr>\n",
       "      <th>0</th>\n",
       "      <td>10</td>\n",
       "      <td>raju</td>\n",
       "      <td>5048</td>\n",
       "      <td>95000</td>\n",
       "    </tr>\n",
       "    <tr>\n",
       "      <th>1</th>\n",
       "      <td>20</td>\n",
       "      <td>akki</td>\n",
       "      <td>3163</td>\n",
       "      <td>80000</td>\n",
       "    </tr>\n",
       "    <tr>\n",
       "      <th>2</th>\n",
       "      <td>30</td>\n",
       "      <td>suraj</td>\n",
       "      <td>4512</td>\n",
       "      <td>75000</td>\n",
       "    </tr>\n",
       "    <tr>\n",
       "      <th>3</th>\n",
       "      <td>40</td>\n",
       "      <td>rahul</td>\n",
       "      <td>5263</td>\n",
       "      <td>90000</td>\n",
       "    </tr>\n",
       "    <tr>\n",
       "      <th>4</th>\n",
       "      <td>50</td>\n",
       "      <td>monu</td>\n",
       "      <td>4587</td>\n",
       "      <td>45000</td>\n",
       "    </tr>\n",
       "    <tr>\n",
       "      <th>5</th>\n",
       "      <td>60</td>\n",
       "      <td>pooja</td>\n",
       "      <td>1659</td>\n",
       "      <td>68000</td>\n",
       "    </tr>\n",
       "    <tr>\n",
       "      <th>6</th>\n",
       "      <td>70</td>\n",
       "      <td>rohini</td>\n",
       "      <td>4253</td>\n",
       "      <td>78000</td>\n",
       "    </tr>\n",
       "    <tr>\n",
       "      <th>7</th>\n",
       "      <td>80</td>\n",
       "      <td>kartik</td>\n",
       "      <td>1665</td>\n",
       "      <td>95000</td>\n",
       "    </tr>\n",
       "  </tbody>\n",
       "</table>\n",
       "</div>"
      ],
      "text/plain": [
       "   id    name  dept_id  salary\n",
       "0  10    raju     5048   95000\n",
       "1  20    akki     3163   80000\n",
       "2  30   suraj     4512   75000\n",
       "3  40   rahul     5263   90000\n",
       "4  50    monu     4587   45000\n",
       "5  60   pooja     1659   68000\n",
       "6  70  rohini     4253   78000\n",
       "7  80  kartik     1665   95000"
      ]
     },
     "execution_count": 63,
     "metadata": {},
     "output_type": "execute_result"
    }
   ],
   "source": [
    "emp_df"
   ]
  },
  {
   "cell_type": "code",
   "execution_count": 64,
   "id": "52478ad6",
   "metadata": {},
   "outputs": [
    {
     "data": {
      "text/html": [
       "<div>\n",
       "<style scoped>\n",
       "    .dataframe tbody tr th:only-of-type {\n",
       "        vertical-align: middle;\n",
       "    }\n",
       "\n",
       "    .dataframe tbody tr th {\n",
       "        vertical-align: top;\n",
       "    }\n",
       "\n",
       "    .dataframe thead th {\n",
       "        text-align: right;\n",
       "    }\n",
       "</style>\n",
       "<table border=\"1\" class=\"dataframe\">\n",
       "  <thead>\n",
       "    <tr style=\"text-align: right;\">\n",
       "      <th></th>\n",
       "      <th>id</th>\n",
       "      <th>dept_name</th>\n",
       "    </tr>\n",
       "  </thead>\n",
       "  <tbody>\n",
       "    <tr>\n",
       "      <th>0</th>\n",
       "      <td>10</td>\n",
       "      <td>HR</td>\n",
       "    </tr>\n",
       "    <tr>\n",
       "      <th>1</th>\n",
       "      <td>20</td>\n",
       "      <td>ENGG</td>\n",
       "    </tr>\n",
       "    <tr>\n",
       "      <th>2</th>\n",
       "      <td>30</td>\n",
       "      <td>CIVIL</td>\n",
       "    </tr>\n",
       "    <tr>\n",
       "      <th>3</th>\n",
       "      <td>40</td>\n",
       "      <td>MECH</td>\n",
       "    </tr>\n",
       "    <tr>\n",
       "      <th>4</th>\n",
       "      <td>50</td>\n",
       "      <td>ENGG</td>\n",
       "    </tr>\n",
       "    <tr>\n",
       "      <th>5</th>\n",
       "      <td>60</td>\n",
       "      <td>CIVIL</td>\n",
       "    </tr>\n",
       "    <tr>\n",
       "      <th>6</th>\n",
       "      <td>70</td>\n",
       "      <td>HR</td>\n",
       "    </tr>\n",
       "    <tr>\n",
       "      <th>7</th>\n",
       "      <td>80</td>\n",
       "      <td>MECH</td>\n",
       "    </tr>\n",
       "  </tbody>\n",
       "</table>\n",
       "</div>"
      ],
      "text/plain": [
       "   id dept_name\n",
       "0  10        HR\n",
       "1  20      ENGG\n",
       "2  30     CIVIL\n",
       "3  40      MECH\n",
       "4  50      ENGG\n",
       "5  60     CIVIL\n",
       "6  70        HR\n",
       "7  80      MECH"
      ]
     },
     "execution_count": 64,
     "metadata": {},
     "output_type": "execute_result"
    }
   ],
   "source": [
    "dept_df"
   ]
  },
  {
   "cell_type": "code",
   "execution_count": 65,
   "id": "64b6dbab",
   "metadata": {},
   "outputs": [],
   "source": [
    "final_df = pd.merge(emp_df,dept_df,on='id',how='outer')"
   ]
  },
  {
   "cell_type": "code",
   "execution_count": 66,
   "id": "35bae191",
   "metadata": {},
   "outputs": [
    {
     "data": {
      "text/html": [
       "<div>\n",
       "<style scoped>\n",
       "    .dataframe tbody tr th:only-of-type {\n",
       "        vertical-align: middle;\n",
       "    }\n",
       "\n",
       "    .dataframe tbody tr th {\n",
       "        vertical-align: top;\n",
       "    }\n",
       "\n",
       "    .dataframe thead th {\n",
       "        text-align: right;\n",
       "    }\n",
       "</style>\n",
       "<table border=\"1\" class=\"dataframe\">\n",
       "  <thead>\n",
       "    <tr style=\"text-align: right;\">\n",
       "      <th></th>\n",
       "      <th>id</th>\n",
       "      <th>name</th>\n",
       "      <th>dept_id</th>\n",
       "      <th>salary</th>\n",
       "      <th>dept_name</th>\n",
       "    </tr>\n",
       "  </thead>\n",
       "  <tbody>\n",
       "    <tr>\n",
       "      <th>0</th>\n",
       "      <td>10</td>\n",
       "      <td>raju</td>\n",
       "      <td>5048</td>\n",
       "      <td>95000</td>\n",
       "      <td>HR</td>\n",
       "    </tr>\n",
       "    <tr>\n",
       "      <th>1</th>\n",
       "      <td>20</td>\n",
       "      <td>akki</td>\n",
       "      <td>3163</td>\n",
       "      <td>80000</td>\n",
       "      <td>ENGG</td>\n",
       "    </tr>\n",
       "    <tr>\n",
       "      <th>2</th>\n",
       "      <td>30</td>\n",
       "      <td>suraj</td>\n",
       "      <td>4512</td>\n",
       "      <td>75000</td>\n",
       "      <td>CIVIL</td>\n",
       "    </tr>\n",
       "    <tr>\n",
       "      <th>3</th>\n",
       "      <td>40</td>\n",
       "      <td>rahul</td>\n",
       "      <td>5263</td>\n",
       "      <td>90000</td>\n",
       "      <td>MECH</td>\n",
       "    </tr>\n",
       "    <tr>\n",
       "      <th>4</th>\n",
       "      <td>50</td>\n",
       "      <td>monu</td>\n",
       "      <td>4587</td>\n",
       "      <td>45000</td>\n",
       "      <td>ENGG</td>\n",
       "    </tr>\n",
       "    <tr>\n",
       "      <th>5</th>\n",
       "      <td>60</td>\n",
       "      <td>pooja</td>\n",
       "      <td>1659</td>\n",
       "      <td>68000</td>\n",
       "      <td>CIVIL</td>\n",
       "    </tr>\n",
       "    <tr>\n",
       "      <th>6</th>\n",
       "      <td>70</td>\n",
       "      <td>rohini</td>\n",
       "      <td>4253</td>\n",
       "      <td>78000</td>\n",
       "      <td>HR</td>\n",
       "    </tr>\n",
       "    <tr>\n",
       "      <th>7</th>\n",
       "      <td>80</td>\n",
       "      <td>kartik</td>\n",
       "      <td>1665</td>\n",
       "      <td>95000</td>\n",
       "      <td>MECH</td>\n",
       "    </tr>\n",
       "  </tbody>\n",
       "</table>\n",
       "</div>"
      ],
      "text/plain": [
       "   id    name  dept_id  salary dept_name\n",
       "0  10    raju     5048   95000        HR\n",
       "1  20    akki     3163   80000      ENGG\n",
       "2  30   suraj     4512   75000     CIVIL\n",
       "3  40   rahul     5263   90000      MECH\n",
       "4  50    monu     4587   45000      ENGG\n",
       "5  60   pooja     1659   68000     CIVIL\n",
       "6  70  rohini     4253   78000        HR\n",
       "7  80  kartik     1665   95000      MECH"
      ]
     },
     "execution_count": 66,
     "metadata": {},
     "output_type": "execute_result"
    }
   ],
   "source": [
    "final_df"
   ]
  },
  {
   "cell_type": "code",
   "execution_count": 67,
   "id": "820b5af3",
   "metadata": {},
   "outputs": [
    {
     "data": {
      "text/html": [
       "<div>\n",
       "<style scoped>\n",
       "    .dataframe tbody tr th:only-of-type {\n",
       "        vertical-align: middle;\n",
       "    }\n",
       "\n",
       "    .dataframe tbody tr th {\n",
       "        vertical-align: top;\n",
       "    }\n",
       "\n",
       "    .dataframe thead th {\n",
       "        text-align: right;\n",
       "    }\n",
       "</style>\n",
       "<table border=\"1\" class=\"dataframe\">\n",
       "  <thead>\n",
       "    <tr style=\"text-align: right;\">\n",
       "      <th></th>\n",
       "      <th>salary</th>\n",
       "      <th>dept_name</th>\n",
       "    </tr>\n",
       "  </thead>\n",
       "  <tbody>\n",
       "    <tr>\n",
       "      <th>0</th>\n",
       "      <td>95000</td>\n",
       "      <td>HR</td>\n",
       "    </tr>\n",
       "    <tr>\n",
       "      <th>1</th>\n",
       "      <td>80000</td>\n",
       "      <td>ENGG</td>\n",
       "    </tr>\n",
       "    <tr>\n",
       "      <th>2</th>\n",
       "      <td>75000</td>\n",
       "      <td>CIVIL</td>\n",
       "    </tr>\n",
       "    <tr>\n",
       "      <th>3</th>\n",
       "      <td>90000</td>\n",
       "      <td>MECH</td>\n",
       "    </tr>\n",
       "    <tr>\n",
       "      <th>4</th>\n",
       "      <td>45000</td>\n",
       "      <td>ENGG</td>\n",
       "    </tr>\n",
       "    <tr>\n",
       "      <th>5</th>\n",
       "      <td>68000</td>\n",
       "      <td>CIVIL</td>\n",
       "    </tr>\n",
       "    <tr>\n",
       "      <th>6</th>\n",
       "      <td>78000</td>\n",
       "      <td>HR</td>\n",
       "    </tr>\n",
       "    <tr>\n",
       "      <th>7</th>\n",
       "      <td>95000</td>\n",
       "      <td>MECH</td>\n",
       "    </tr>\n",
       "  </tbody>\n",
       "</table>\n",
       "</div>"
      ],
      "text/plain": [
       "   salary dept_name\n",
       "0   95000        HR\n",
       "1   80000      ENGG\n",
       "2   75000     CIVIL\n",
       "3   90000      MECH\n",
       "4   45000      ENGG\n",
       "5   68000     CIVIL\n",
       "6   78000        HR\n",
       "7   95000      MECH"
      ]
     },
     "execution_count": 67,
     "metadata": {},
     "output_type": "execute_result"
    }
   ],
   "source": [
    "final_df[['salary','dept_name']]"
   ]
  },
  {
   "cell_type": "code",
   "execution_count": 68,
   "id": "98c41591",
   "metadata": {},
   "outputs": [],
   "source": [
    "df_HR_salary = final_df.loc[0,'salary'] + final_df.loc[6,'salary']"
   ]
  },
  {
   "cell_type": "code",
   "execution_count": 69,
   "id": "872c60cf",
   "metadata": {},
   "outputs": [
    {
     "data": {
      "text/plain": [
       "173000"
      ]
     },
     "execution_count": 69,
     "metadata": {},
     "output_type": "execute_result"
    }
   ],
   "source": [
    "df_HR_salary"
   ]
  },
  {
   "cell_type": "code",
   "execution_count": 70,
   "id": "cd3257ef",
   "metadata": {},
   "outputs": [],
   "source": [
    "df_ENGG_salary = final_df.loc[1,'salary'] + final_df.loc[4,'salary']"
   ]
  },
  {
   "cell_type": "code",
   "execution_count": 71,
   "id": "9d5fe4d7",
   "metadata": {},
   "outputs": [
    {
     "data": {
      "text/plain": [
       "125000"
      ]
     },
     "execution_count": 71,
     "metadata": {},
     "output_type": "execute_result"
    }
   ],
   "source": [
    "df_ENGG_salary"
   ]
  },
  {
   "cell_type": "code",
   "execution_count": 72,
   "id": "b6e8d02d",
   "metadata": {},
   "outputs": [],
   "source": [
    "df_CIVIL_salary = final_df.loc[2,'salary'] + final_df.loc[5,'salary']"
   ]
  },
  {
   "cell_type": "code",
   "execution_count": 73,
   "id": "d54d944b",
   "metadata": {},
   "outputs": [
    {
     "data": {
      "text/plain": [
       "143000"
      ]
     },
     "execution_count": 73,
     "metadata": {},
     "output_type": "execute_result"
    }
   ],
   "source": [
    "df_CIVIL_salary"
   ]
  },
  {
   "cell_type": "code",
   "execution_count": 74,
   "id": "9107db75",
   "metadata": {},
   "outputs": [],
   "source": [
    "df_MECH_salary = final_df.loc[3,'salary'] + final_df.loc[7,'salary']"
   ]
  },
  {
   "cell_type": "code",
   "execution_count": 75,
   "id": "51706ff9",
   "metadata": {},
   "outputs": [
    {
     "data": {
      "text/plain": [
       "185000"
      ]
     },
     "execution_count": 75,
     "metadata": {},
     "output_type": "execute_result"
    }
   ],
   "source": [
    "df_MECH_salary"
   ]
  },
  {
   "cell_type": "code",
   "execution_count": 1,
   "id": "90fc1af3",
   "metadata": {},
   "outputs": [],
   "source": [
    "# How to merge two dictionaries"
   ]
  },
  {
   "cell_type": "code",
   "execution_count": 5,
   "id": "bb581eb5",
   "metadata": {},
   "outputs": [
    {
     "name": "stdout",
     "output_type": "stream",
     "text": [
      "{'Name': 'Rajiv Patil', 'City': 'Pune', 'Id': 5048, 'Mob': 7020380691}\n"
     ]
    }
   ],
   "source": [
    "def Merge(a,b):\n",
    "    raj={**a,**b}\n",
    "    return raj\n",
    "    \n",
    "a = {'Name':'Rajiv Patil','City':'Pune'}\n",
    "b = {'Id':5048, 'Mob':7020380691}\n",
    "c = Merge(a,b)\n",
    "\n",
    "print(c)"
   ]
  },
  {
   "cell_type": "code",
   "execution_count": 6,
   "id": "7cda8163",
   "metadata": {},
   "outputs": [
    {
     "name": "stdout",
     "output_type": "stream",
     "text": [
      "{'Id': 5048, 'Actor': 'Akshay', 'city': 'Pune', 'Location': 'Bengaluru'}\n"
     ]
    }
   ],
   "source": [
    "def Merge(a,b):\n",
    "    data = {**a,**b}\n",
    "    return data\n",
    "\n",
    "a = {'Id':5048,'Actor':'Akshay'}\n",
    "b = {'city':'Pune','Location':'Bengaluru'}\n",
    "c = Merge(a,b)\n",
    "\n",
    "print(c)"
   ]
  },
  {
   "cell_type": "code",
   "execution_count": 7,
   "id": "26a30547",
   "metadata": {},
   "outputs": [
    {
     "name": "stdout",
     "output_type": "stream",
     "text": [
      "['akki', 'srk', 'aamir']\n"
     ]
    }
   ],
   "source": [
    "actors = ['akki','salman','srk','aamir','ajay']\n",
    "favourite = []\n",
    "for a in actors:\n",
    "    if a in ['akki','srk','aamir']:\n",
    "        favourite.append(a)\n",
    "print(favourite)"
   ]
  },
  {
   "cell_type": "code",
   "execution_count": 8,
   "id": "eb97d5fe",
   "metadata": {},
   "outputs": [],
   "source": [
    "favourite = [a for a in actors if  a in ['akki','srk','aamir']]"
   ]
  },
  {
   "cell_type": "code",
   "execution_count": 9,
   "id": "f4a77752",
   "metadata": {},
   "outputs": [
    {
     "data": {
      "text/plain": [
       "['akki', 'srk', 'aamir']"
      ]
     },
     "execution_count": 9,
     "metadata": {},
     "output_type": "execute_result"
    }
   ],
   "source": [
    "favourite"
   ]
  },
  {
   "cell_type": "code",
   "execution_count": 1,
   "id": "5c2b0602",
   "metadata": {},
   "outputs": [],
   "source": [
    "# print the numbers from 1 to 50, but of multiples of three print 'fizz' instead of number & \n",
    "# for multiples of five print 'buzz', for the numbers which are multiple of both three & five print 'fizzbuzz"
   ]
  },
  {
   "cell_type": "code",
   "execution_count": 7,
   "id": "8b88400c",
   "metadata": {},
   "outputs": [
    {
     "name": "stdout",
     "output_type": "stream",
     "text": [
      "Fizzbuzz\n",
      "Fizzbuzz\n",
      "Fizzbuzz\n",
      "Fizzbuzz\n",
      "buzz\n",
      "Fizzbuzz\n",
      "Fizzbuzz\n",
      "Fizzbuzz\n",
      "Fizzbuzz\n",
      "buzz\n",
      "Fizzbuzz\n",
      "Fizzbuzz\n",
      "Fizzbuzz\n",
      "Fizzbuzz\n",
      "Fizzbuzz\n",
      "Fizzbuzz\n",
      "Fizzbuzz\n",
      "Fizzbuzz\n",
      "Fizzbuzz\n",
      "buzz\n",
      "Fizzbuzz\n",
      "Fizzbuzz\n",
      "Fizzbuzz\n",
      "Fizzbuzz\n",
      "buzz\n",
      "Fizzbuzz\n",
      "Fizzbuzz\n",
      "Fizzbuzz\n",
      "Fizzbuzz\n",
      "Fizzbuzz\n",
      "Fizzbuzz\n",
      "Fizzbuzz\n",
      "Fizzbuzz\n",
      "Fizzbuzz\n",
      "buzz\n",
      "Fizzbuzz\n",
      "Fizzbuzz\n",
      "Fizzbuzz\n",
      "Fizzbuzz\n",
      "buzz\n",
      "Fizzbuzz\n",
      "Fizzbuzz\n",
      "Fizzbuzz\n",
      "Fizzbuzz\n",
      "Fizzbuzz\n",
      "Fizzbuzz\n",
      "Fizzbuzz\n",
      "Fizzbuzz\n",
      "Fizzbuzz\n",
      "buzz\n"
     ]
    }
   ],
   "source": [
    "for Fizzbuzz in range(1,51):\n",
    "    if Fizzbuzz % 3 == 0 & Fizzbuzz % 5 == 0:\n",
    "        print(\"Fizzbuzz\")\n",
    "        continue\n",
    "    elif Fizzbuzz % 3 == 0:\n",
    "        print(\"Fizz\")\n",
    "        continue\n",
    "    elif Fizzbuzz % 5 == 0:\n",
    "        print(\"buzz\")\n",
    "        continue\n",
    "    print(\"Fizzbuzz\")"
   ]
  },
  {
   "cell_type": "code",
   "execution_count": 1,
   "id": "f2a748ab",
   "metadata": {},
   "outputs": [],
   "source": [
    "# Find prime numbers using lambda functions"
   ]
  },
  {
   "cell_type": "code",
   "execution_count": 3,
   "id": "6a1bc920",
   "metadata": {},
   "outputs": [
    {
     "name": "stdout",
     "output_type": "stream",
     "text": [
      "[0, 1, 2, 3, 5, 7, 11, 13, 17, 19, 23, 29, 31, 37, 41, 43, 47, 53, 59, 61, 67, 71, 73, 79, 83, 89, 97]\n"
     ]
    }
   ],
   "source": [
    "prime = list(filter(lambda x:all(x % y !=0 for y in range(2,x)),range(100)))\n",
    "print(prime)"
   ]
  },
  {
   "cell_type": "code",
   "execution_count": 4,
   "id": "b5f62f85",
   "metadata": {},
   "outputs": [],
   "source": [
    "# Find prime numbers using list functions"
   ]
  },
  {
   "cell_type": "code",
   "execution_count": 18,
   "id": "269f06ee",
   "metadata": {},
   "outputs": [],
   "source": [
    "prime_list = [x for x in range(100) if all(x % y != 0 for y in range(2, x))]"
   ]
  },
  {
   "cell_type": "code",
   "execution_count": 21,
   "id": "83c27423",
   "metadata": {},
   "outputs": [
    {
     "data": {
      "text/plain": [
       "[0,\n",
       " 1,\n",
       " 2,\n",
       " 3,\n",
       " 5,\n",
       " 7,\n",
       " 11,\n",
       " 13,\n",
       " 17,\n",
       " 19,\n",
       " 23,\n",
       " 29,\n",
       " 31,\n",
       " 37,\n",
       " 41,\n",
       " 43,\n",
       " 47,\n",
       " 53,\n",
       " 59,\n",
       " 61,\n",
       " 67,\n",
       " 71,\n",
       " 73,\n",
       " 79,\n",
       " 83,\n",
       " 89,\n",
       " 97]"
      ]
     },
     "execution_count": 21,
     "metadata": {},
     "output_type": "execute_result"
    }
   ],
   "source": [
    "prime_list"
   ]
  },
  {
   "cell_type": "code",
   "execution_count": 22,
   "id": "e0aa63e3",
   "metadata": {},
   "outputs": [],
   "source": [
    "prime = [x for x in range(10) if all(x%y!=0 for y in range(2,x))]"
   ]
  },
  {
   "cell_type": "code",
   "execution_count": 23,
   "id": "f1bc2b02",
   "metadata": {},
   "outputs": [
    {
     "data": {
      "text/plain": [
       "[0, 1, 2, 3, 5, 7]"
      ]
     },
     "execution_count": 23,
     "metadata": {},
     "output_type": "execute_result"
    }
   ],
   "source": [
    "prime"
   ]
  },
  {
   "cell_type": "code",
   "execution_count": null,
   "id": "177e7773",
   "metadata": {},
   "outputs": [],
   "source": []
  }
 ],
 "metadata": {
  "kernelspec": {
   "display_name": "Python 3 (ipykernel)",
   "language": "python",
   "name": "python3"
  },
  "language_info": {
   "codemirror_mode": {
    "name": "ipython",
    "version": 3
   },
   "file_extension": ".py",
   "mimetype": "text/x-python",
   "name": "python",
   "nbconvert_exporter": "python",
   "pygments_lexer": "ipython3",
   "version": "3.9.13"
  }
 },
 "nbformat": 4,
 "nbformat_minor": 5
}
